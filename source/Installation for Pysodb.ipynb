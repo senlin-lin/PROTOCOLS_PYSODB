{
 "cells": [
  {
   "attachments": {},
   "cell_type": "markdown",
   "metadata": {},
   "source": [
    "# Installation for Pysodb"
   ]
  },
  {
   "attachments": {},
   "cell_type": "markdown",
   "metadata": {},
   "source": [
    "This tutorial demonstrates how to install the pysodb package in a conda environment."
   ]
  },
  {
   "attachments": {},
   "cell_type": "markdown",
   "metadata": {},
   "source": [
    "## Installing softwares"
   ]
  },
  {
   "attachments": {},
   "cell_type": "markdown",
   "metadata": {},
   "source": [
    "### 1. The first step is to install Anaconda and Visual Studio Code in advance."
   ]
  },
  {
   "attachments": {},
   "cell_type": "markdown",
   "metadata": {},
   "source": [
    "Reference tutorials can be found at https://docs.anaconda.com/anaconda/install/index.html and https://docs.anaconda.com/anaconda/user-guide/tasks/integration/vscode/"
   ]
  },
  {
   "attachments": {},
   "cell_type": "markdown",
   "metadata": {},
   "source": [
    "### 2. Launch Visual Studio Code and open a terminal window. \n"
   ]
  },
  {
   "attachments": {},
   "cell_type": "markdown",
   "metadata": {},
   "source": [
    "Henceforth, various packages or modules will be installed via the command line"
   ]
  },
  {
   "attachments": {},
   "cell_type": "markdown",
   "metadata": {},
   "source": [
    "## Installation pysobd"
   ]
  },
  {
   "attachments": {},
   "cell_type": "markdown",
   "metadata": {},
   "source": [
    "### 3. Select the installation path and open it"
   ]
  },
  {
   "cell_type": "code",
   "execution_count": null,
   "metadata": {},
   "outputs": [],
   "source": [
    "cd <path>"
   ]
  },
  {
   "attachments": {},
   "cell_type": "markdown",
   "metadata": {},
   "source": [
    "### 4. Clone pycodb code"
   ]
  },
  {
   "cell_type": "code",
   "execution_count": null,
   "metadata": {},
   "outputs": [],
   "source": [
    "git clone https://github.com/TencentAILabHealthcare/pysodb.git"
   ]
  },
  {
   "attachments": {},
   "cell_type": "markdown",
   "metadata": {},
   "source": [
    "### 5. Open the pycodb directory"
   ]
  },
  {
   "cell_type": "code",
   "execution_count": null,
   "metadata": {},
   "outputs": [],
   "source": [
    "cd pysodb"
   ]
  },
  {
   "attachments": {},
   "cell_type": "markdown",
   "metadata": {},
   "source": [
    "### 6. Create a conda environment"
   ]
  },
  {
   "cell_type": "code",
   "execution_count": null,
   "metadata": {},
   "outputs": [],
   "source": [
    "conda env create -n <environment_name> --file pysodb.yml"
   ]
  },
  {
   "attachments": {},
   "cell_type": "markdown",
   "metadata": {},
   "source": [
    "### 7. Activate a conda environment"
   ]
  },
  {
   "attachments": {},
   "cell_type": "markdown",
   "metadata": {},
   "source": [
    "If the conda environment is used on the terminal, run the following command to activate it:"
   ]
  },
  {
   "cell_type": "code",
   "execution_count": null,
   "metadata": {},
   "outputs": [],
   "source": [
    "conda activate <environment_name>"
   ]
  },
  {
   "attachments": {},
   "cell_type": "markdown",
   "metadata": {},
   "source": [
    "### 8. Install a pysodb package from source code"
   ]
  },
  {
   "cell_type": "code",
   "execution_count": null,
   "metadata": {},
   "outputs": [],
   "source": [
    "python setup.py install"
   ]
  },
  {
   "attachments": {},
   "cell_type": "markdown",
   "metadata": {},
   "source": [
    "### 9. Install pysodb as a dependency or third-party package with pip"
   ]
  },
  {
   "cell_type": "code",
   "execution_count": null,
   "metadata": {},
   "outputs": [],
   "source": [
    "pip install <third-party package>"
   ]
  },
  {
   "attachments": {},
   "cell_type": "markdown",
   "metadata": {},
   "source": [
    "## Usage"
   ]
  },
  {
   "attachments": {},
   "cell_type": "markdown",
   "metadata": {},
   "source": [
    "The next steps demonstrate usage of the pycodb package via Jupyter.\n",
    "\n",
    "\"Select Kernel\" through jupyter, and then select the python environment"
   ]
  },
  {
   "attachments": {},
   "cell_type": "markdown",
   "metadata": {},
   "source": [
    "### import pysodb package"
   ]
  },
  {
   "cell_type": "code",
   "execution_count": 1,
   "metadata": {},
   "outputs": [],
   "source": [
    "import pysodb"
   ]
  },
  {
   "attachments": {},
   "cell_type": "markdown",
   "metadata": {},
   "source": [
    "### Initialization"
   ]
  },
  {
   "cell_type": "code",
   "execution_count": 2,
   "metadata": {},
   "outputs": [],
   "source": [
    "sodb = pysodb.SODB() "
   ]
  },
  {
   "attachments": {},
   "cell_type": "markdown",
   "metadata": {},
   "source": [
    "### Get the list of datasets"
   ]
  },
  {
   "cell_type": "code",
   "execution_count": 3,
   "metadata": {},
   "outputs": [],
   "source": [
    "dataset_list = sodb.list_dataset()"
   ]
  },
  {
   "attachments": {},
   "cell_type": "markdown",
   "metadata": {},
   "source": [
    "### Get the list of datasets with specific category. "
   ]
  },
  {
   "attachments": {},
   "cell_type": "markdown",
   "metadata": {},
   "source": [
    "categories [\"Spatial Transcriptomics\", \"Spatial Proteomics\", \"Spatial Metabolomics\", \"Spatial Genomics\", \"Spatial MultiOmics\"]\n",
    "\n",
    "And, take the example of \"Spatial Transcriptomics\":"
   ]
  },
  {
   "cell_type": "code",
   "execution_count": 4,
   "metadata": {},
   "outputs": [
    {
     "data": {
      "text/plain": [
       "['maynard2021trans',\n",
       " 'codeluppi2018spatial',\n",
       " 'xia2022the',\n",
       " 'backdahl2021spatial',\n",
       " 'eng2019transcriptome',\n",
       " 'berglund2018spatial',\n",
       " 'Sanchez2021A',\n",
       " 'thrane2018spatially',\n",
       " 'Dhainaut2022Spatial',\n",
       " 'Buzzi2022Spatial',\n",
       " 'Gouin2021An',\n",
       " 'Wang2018Three_1k',\n",
       " 'wang2021easi',\n",
       " 'lohoff2021integration',\n",
       " 'chen2020spatial',\n",
       " 'wang2022high',\n",
       " 'Sun2022Excitatory',\n",
       " 'Garcia2021Mapping',\n",
       " 'ji2020multimodal',\n",
       " 'Dixon2022Spatially',\n",
       " 'Zeng2023Integrative',\n",
       " 'asp2019a',\n",
       " 'seqFISH_VISp',\n",
       " 'Wang2018three',\n",
       " 'rodriques2019slide',\n",
       " 'chen2021decoding',\n",
       " 'stickels2020highly',\n",
       " 'liu2022spatiotemporal',\n",
       " 'Alon2021Expansion',\n",
       " 'Allen2022Molecular_lps',\n",
       " 'chen2022spatiotemporal_compre_20',\n",
       " 'carlberg2019exploring',\n",
       " 'zhang2021spatially',\n",
       " 'Marshall2022High_human',\n",
       " 'Vickovic2019high_update',\n",
       " 'scispace',\n",
       " 'hunter2021spatially',\n",
       " 'Kadur2022Human',\n",
       " 'fawkner2021spatiotemporal',\n",
       " 'stahl2016visualization',\n",
       " 'ortiz2020molecular',\n",
       " 'Vickovic2019high',\n",
       " 'Biermann2022Dissecting',\n",
       " 'DARTFISH',\n",
       " 'Marshall2022High_mouse',\n",
       " 'Allen2022Molecular_aging',\n",
       " 'Merfish_Visp',\n",
       " 'Barkley2022Cancer',\n",
       " 'gracia2021genome',\n",
       " 'mantri2021spatiotemporal',\n",
       " 'moffitt2018molecular',\n",
       " 'Visium_Allen',\n",
       " 'Wu2022spatial',\n",
       " 'chen2022spatiotemporal',\n",
       " 'kvastad2021the',\n",
       " 'asp2017spatial',\n",
       " 'wei2022single',\n",
       " 'Pascual2021Dietary',\n",
       " 'Fang2022Conservation',\n",
       " 'Navarro2020Spatial',\n",
       " 'Joglekar2021A',\n",
       " 'Konieczny2022Interleukin',\n",
       " 'guilliams2022spatial',\n",
       " 'Misra2021Characterizing',\n",
       " 'bergenstrahle2021super',\n",
       " 'Tower2021Spatial',\n",
       " 'he2020integrating',\n",
       " 'Juntaro2022MEK',\n",
       " 'Booeshaghi2021Isoform',\n",
       " 'Zhang2023Amolecularly_rawcount',\n",
       " 'Shi2022Spatial',\n",
       " 'parigi2022the',\n",
       " 'Fu2021Unsupervised',\n",
       " 'Kleshchevnikov2022Cell2location',\n",
       " 'xia2019spatial',\n",
       " 'maniatis2019spatiotemporal',\n",
       " 'Melo2021Integrating',\n",
       " 'Shah2016InSitu',\n",
       " 'Sun2021Integrating',\n",
       " 'chen2021dissecting',\n",
       " 'Ratz2022Clonal',\n",
       " 'hildebrandt2021spatial',\n",
       " 'Borm2022Scalable',\n",
       " 'moncada2020integrating',\n",
       " 'Lebrigand2022The',\n",
       " '10x']"
      ]
     },
     "execution_count": 4,
     "metadata": {},
     "output_type": "execute_result"
    }
   ],
   "source": [
    "dataset_list = sodb.list_dataset_by_category(\"Spatial Transcriptomics\")\n",
    "dataset_list"
   ]
  },
  {
   "attachments": {},
   "cell_type": "markdown",
   "metadata": {},
   "source": [
    "### Load a specific experiment "
   ]
  },
  {
   "attachments": {},
   "cell_type": "markdown",
   "metadata": {},
   "source": [
    "Loading a specific experiment needs two arguments, dataset_name and experiment_name.\n",
    "\n",
    "Two arguments are available at https://gene.ai.tencent.com/SpatialOmics/."
   ]
  },
  {
   "cell_type": "code",
   "execution_count": 5,
   "metadata": {},
   "outputs": [
    {
     "name": "stdout",
     "output_type": "stream",
     "text": [
      "load experiment[sample_B] in dataset[hunter2021spatially]\n"
     ]
    },
    {
     "data": {
      "text/plain": [
       "AnnData object with n_obs × n_vars = 2179 × 32268\n",
       "    obs: 'col_0', 'leiden'\n",
       "    var: 'gene_ids', 'feature_types', 'genome', 'highly_variable', 'means', 'dispersions', 'dispersions_norm'\n",
       "    uns: 'hvg', 'leiden', 'leiden_colors', 'log1p', 'moranI', 'neighbors', 'pca', 'spatial_neighbors', 'umap'\n",
       "    obsm: 'X_pca', 'X_umap', 'spatial', 'spatial_pixel', 'spatial_real'\n",
       "    varm: 'PCs'\n",
       "    obsp: 'connectivities', 'distances', 'spatial_connectivities', 'spatial_distances'"
      ]
     },
     "execution_count": 5,
     "metadata": {},
     "output_type": "execute_result"
    }
   ],
   "source": [
    "adata = sodb.load_experiment('hunter2021spatially','sample_B')\n",
    "adata"
   ]
  },
  {
   "attachments": {},
   "cell_type": "markdown",
   "metadata": {},
   "source": [
    "### Load a specific dataset"
   ]
  },
  {
   "cell_type": "code",
   "execution_count": 6,
   "metadata": {},
   "outputs": [
    {
     "name": "stdout",
     "output_type": "stream",
     "text": [
      "load experiment[sample_A] in dataset[hunter2021spatially]\n",
      "load experiment[sample_C] in dataset[hunter2021spatially]\n",
      "load experiment[sample_B] in dataset[hunter2021spatially]\n"
     ]
    },
    {
     "data": {
      "text/plain": [
       "{'sample_A': AnnData object with n_obs × n_vars = 2425 × 32268\n",
       "     obs: 'col_0', 'leiden'\n",
       "     var: 'gene_ids', 'feature_types', 'genome', 'highly_variable', 'means', 'dispersions', 'dispersions_norm'\n",
       "     uns: 'hvg', 'leiden', 'leiden_colors', 'log1p', 'moranI', 'neighbors', 'pca', 'spatial_neighbors', 'umap'\n",
       "     obsm: 'X_pca', 'X_umap', 'spatial', 'spatial_pixel', 'spatial_real'\n",
       "     varm: 'PCs'\n",
       "     obsp: 'connectivities', 'distances', 'spatial_connectivities', 'spatial_distances',\n",
       " 'sample_C': AnnData object with n_obs × n_vars = 2677 × 32268\n",
       "     obs: 'col_0', 'leiden'\n",
       "     var: 'gene_ids', 'feature_types', 'genome', 'highly_variable', 'means', 'dispersions', 'dispersions_norm'\n",
       "     uns: 'hvg', 'leiden', 'leiden_colors', 'log1p', 'moranI', 'neighbors', 'pca', 'spatial_neighbors', 'umap'\n",
       "     obsm: 'X_pca', 'X_umap', 'spatial', 'spatial_pixel', 'spatial_real'\n",
       "     varm: 'PCs'\n",
       "     obsp: 'connectivities', 'distances', 'spatial_connectivities', 'spatial_distances',\n",
       " 'sample_B': AnnData object with n_obs × n_vars = 2179 × 32268\n",
       "     obs: 'col_0', 'leiden'\n",
       "     var: 'gene_ids', 'feature_types', 'genome', 'highly_variable', 'means', 'dispersions', 'dispersions_norm'\n",
       "     uns: 'hvg', 'leiden', 'leiden_colors', 'log1p', 'moranI', 'neighbors', 'pca', 'spatial_neighbors', 'umap'\n",
       "     obsm: 'X_pca', 'X_umap', 'spatial', 'spatial_pixel', 'spatial_real'\n",
       "     varm: 'PCs'\n",
       "     obsp: 'connectivities', 'distances', 'spatial_connectivities', 'spatial_distances'}"
      ]
     },
     "execution_count": 6,
     "metadata": {},
     "output_type": "execute_result"
    }
   ],
   "source": [
    "adataset = sodb.load_dataset('hunter2021spatially') \n",
    "adataset"
   ]
  }
 ],
 "metadata": {
  "kernelspec": {
   "display_name": "test_sodb",
   "language": "python",
   "name": "python3"
  },
  "language_info": {
   "codemirror_mode": {
    "name": "ipython",
    "version": 3
   },
   "file_extension": ".py",
   "mimetype": "text/x-python",
   "name": "python",
   "nbconvert_exporter": "python",
   "pygments_lexer": "ipython3",
   "version": "3.8.16"
  },
  "orig_nbformat": 4
 },
 "nbformat": 4,
 "nbformat_minor": 2
}
